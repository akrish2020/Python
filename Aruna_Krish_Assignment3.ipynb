{
 "cells": [
  {
   "cell_type": "markdown",
   "metadata": {},
   "source": [
    "\n",
    " 1.1 Write a Python Program to implement your own myreduce() function which works exactly like Python's built-in function reduce() "
   ]
  },
  {
   "cell_type": "code",
   "execution_count": 25,
   "metadata": {},
   "outputs": [
    {
     "name": "stdout",
     "output_type": "stream",
     "text": [
      "Sum on list [1,2,3,4,5,-5] using custom reduce function 10\n"
     ]
    }
   ],
   "source": [
    "def my_reduce(func, my_list):  \n",
    "# store the first element in the variable result_list\n",
    "    result = my_list[0]\n",
    "# iterate remaining items  and apply reduction function \n",
    "    for item in my_list[1:]:\n",
    "        result = func(result, item)\n",
    "    return result\n",
    "\n",
    "print (\"Sum on list [1,2,3,4,5,-5] using custom reduce function \"   + str(myreduce(sum, [1,2,3,4,5,-5])) )\n",
    "\n"
   ]
  },
  {
   "cell_type": "markdown",
   "metadata": {},
   "source": [
    "1.2 Write a Python program to implement your own myfilter() function which works exactly like Python's built-in function filter()"
   ]
  },
  {
   "cell_type": "code",
   "execution_count": 28,
   "metadata": {},
   "outputs": [
    {
     "name": "stdout",
     "output_type": "stream",
     "text": [
      "Filter only positive Integers on list [0,1,-2,3,-3,4,5,-7,-9] using custom filter function[1, 3, 4, 5, 25, 30]\n"
     ]
    }
   ],
   "source": [
    "def myfilter(anyfunc, sequence):       \n",
    " # Initialize empty list\n",
    "    result = []\n",
    " # iterate over sequence of items in sequence and apply filter function\n",
    "    for item in sequence:                \n",
    "        if anyfunc(item):\n",
    "            result.append(item)\n",
    "            # return funal output\n",
    "    return result\n",
    "def ispositive(x):\n",
    "    if (x <= 0): \n",
    "        return False \n",
    "    else: \n",
    "        return True\n",
    "#ispositive(-1)\n",
    "\n",
    "print (\"Filter only positive Integers on list [0,1,-2,3,-3,4,5,-7,-9] using custom filter function\" \n",
    "       + str(myfilter(ispositive, [0,1,-2,3,-3,4,5,-14,25, 30])))"
   ]
  },
  {
   "cell_type": "markdown",
   "metadata": {},
   "source": [
    " 2.Implement List comprehensions to produce the following lists. \n",
    "Write List comprehensions to produce the following Lists \n",
    "['A', 'C', 'A', 'D', 'G', 'I', ’L’, ‘ D’]  \n",
    "['x', 'xx', 'xxx', 'xxxx', 'y', 'yy', 'yyy', 'yyyy', 'z', 'zz', 'zzz', 'zzzz'] \n",
    "['x', 'y', 'z', 'xx', 'yy', 'zz', 'xxx', 'yyy', 'zzz', 'xxxx', 'yyyy', 'zzzz'] \n",
    "[[2], [3], [4], [3], [4], [5], [4], [5], [6]] [[2, 3, 4, 5], [3, 4, 5, 6], \n",
    "[4, 5, 6, 7], [5, 6, 7, 8]]  \n",
    "[(1, 1), (2, 1), (3, 1), (1, 2), (2, 2), (3, 2), (1, 3), (2, 3), (3, 3)] "
   ]
  },
  {
   "cell_type": "code",
   "execution_count": 1,
   "metadata": {},
   "outputs": [
    {
     "name": "stdout",
     "output_type": "stream",
     "text": [
      "ACADGILD => ['A', 'C', 'A', 'D', 'G', 'I', 'L', 'D']\n",
      "['x','y','z'] => ['x', 'xx', 'xxx', 'xxxx', 'y', 'yy', 'yyy', 'yyyy', 'z', 'zz', 'zzz', 'zzzz']\n",
      "['x','y','z'] => ['x', 'y', 'z', 'xx', 'yy', 'zz', 'xxx', 'yyy', 'zzz', 'xxxx', 'yyyy', 'zzzz']\n",
      "[2,3,4] =>[[2], [3], [4], [3], [4], [5], [4], [5], [6]]\n",
      "[2,3,4,5] =>[[2, 3, 4, 5], [3, 4, 5, 6], [4, 5, 6, 7], [5, 6, 7, 8]]\n",
      "[1,2,3] =>[(1, 1), (2, 1), (3, 1), (1, 2), (2, 2), (3, 2), (1, 3), (2, 3), (3, 3)]\n"
     ]
    }
   ],
   "source": [
    "\n",
    "# use for loop into a single list comprehension using \n",
    "#technique [i <Upper for condition> <lower for condition>]\n",
    "# List1\n",
    "\n",
    "word_list = \"ACADGILD\"\n",
    "\n",
    "alphabet_list = [ alphabet for alphabet in word_list ]\n",
    "\n",
    "print (\"ACADGILD => \" + str(alphabet_list))\n",
    "\n",
    "#List2\n",
    "\n",
    "input_list = ['x','y','z']\n",
    "\n",
    "result = [ item*num for item in input_list for num in range(1,5)  ]\n",
    "\n",
    "print(\"['x','y','z'] => \" +   str(result))\n",
    "\n",
    "#List3\n",
    "\n",
    "\n",
    "input_list = ['x','y','z']\n",
    "\n",
    "result = [ item*num for num in range(1,5) for item in input_list  ]\n",
    "\n",
    "print(\"['x','y','z'] => \" +   str(result))\n",
    "\n",
    "#List4\n",
    "\n",
    "input_list = [2,3,4]\n",
    "\n",
    "result = [ [item+num] for item in input_list for num in range(0,3)]\n",
    "\n",
    "print(\"[2,3,4] =>\" +  str(result))\n",
    "\n",
    "#List5\n",
    "\n",
    "input_list = [2,3,4,5]\n",
    "\n",
    "result = [ [item+num for item in input_list] for num in range(0,4)  ]\n",
    "\n",
    "print(\"[2,3,4,5] =>\" +  str(result))\n",
    "\n",
    "\n",
    "#List6\n",
    "\n",
    "input_list=[1,2,3]\n",
    "\n",
    "result = [ (b,a) for a in input_list for b in input_list]\n",
    "\n",
    "print(\"[1,2,3] =>\" +  str(result))\n"
   ]
  },
  {
   "cell_type": "code",
   "execution_count": null,
   "metadata": {},
   "outputs": [],
   "source": []
  }
 ],
 "metadata": {
  "kernelspec": {
   "display_name": "Python 3",
   "language": "python",
   "name": "python3"
  },
  "language_info": {
   "codemirror_mode": {
    "name": "ipython",
    "version": 3
   },
   "file_extension": ".py",
   "mimetype": "text/x-python",
   "name": "python",
   "nbconvert_exporter": "python",
   "pygments_lexer": "ipython3",
   "version": "3.7.6"
  }
 },
 "nbformat": 4,
 "nbformat_minor": 4
}
